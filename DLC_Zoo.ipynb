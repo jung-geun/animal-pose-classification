{
 "cells": [
  {
   "cell_type": "code",
   "execution_count": 1,
   "metadata": {},
   "outputs": [
    {
     "name": "stderr",
     "output_type": "stream",
     "text": [
      "2023-07-18 11:30:55.398728: I tensorflow/core/platform/cpu_feature_guard.cc:193] This TensorFlow binary is optimized with oneAPI Deep Neural Network Library (oneDNN) to use the following CPU instructions in performance-critical operations:  AVX2 FMA\n",
      "To enable them in other operations, rebuild TensorFlow with the appropriate compiler flags.\n",
      "2023-07-18 11:31:01.558865: E tensorflow/stream_executor/cuda/cuda_blas.cc:2981] Unable to register cuBLAS factory: Attempting to register factory for plugin cuBLAS when one has already been registered\n",
      "2023-07-18 11:31:15.951325: W tensorflow/stream_executor/platform/default/dso_loader.cc:64] Could not load dynamic library 'libnvinfer.so.7'; dlerror: libnvinfer.so.7: cannot open shared object file: No such file or directory; LD_LIBRARY_PATH: /usr/local/cuda-12.0/lib64:/usr/local/cuda/extras/CUPTI/lib64:/home/pieroot/miniconda3/envs/deeplabcut/lib/\n",
      "2023-07-18 11:31:15.951479: W tensorflow/stream_executor/platform/default/dso_loader.cc:64] Could not load dynamic library 'libnvinfer_plugin.so.7'; dlerror: libnvinfer_plugin.so.7: cannot open shared object file: No such file or directory; LD_LIBRARY_PATH: /usr/local/cuda-12.0/lib64:/usr/local/cuda/extras/CUPTI/lib64:/home/pieroot/miniconda3/envs/deeplabcut/lib/\n",
      "2023-07-18 11:31:15.951485: W tensorflow/compiler/tf2tensorrt/utils/py_utils.cc:38] TF-TRT Warning: Cannot dlopen some TensorRT libraries. If you would like to use Nvidia GPU with TensorRT, please make sure the missing libraries mentioned above are installed properly.\n"
     ]
    },
    {
     "name": "stdout",
     "output_type": "stream",
     "text": [
      "Loading DLC 2.3.5...\n",
      "superanimal_quadruped\n"
     ]
    },
    {
     "name": "stderr",
     "output_type": "stream",
     "text": [
      "2023-07-18 11:32:15.666200: I tensorflow/stream_executor/cuda/cuda_gpu_executor.cc:980] successful NUMA node read from SysFS had negative value (-1), but there must be at least one NUMA node, so returning NUMA node zero\n",
      "2023-07-18 11:32:16.181045: I tensorflow/stream_executor/cuda/cuda_gpu_executor.cc:980] successful NUMA node read from SysFS had negative value (-1), but there must be at least one NUMA node, so returning NUMA node zero\n",
      "2023-07-18 11:32:16.181264: I tensorflow/stream_executor/cuda/cuda_gpu_executor.cc:980] successful NUMA node read from SysFS had negative value (-1), but there must be at least one NUMA node, so returning NUMA node zero\n"
     ]
    }
   ],
   "source": [
    "import tensorflow as tf\n",
    "import deeplabcut\n",
    "import os\n",
    "\n",
    "os.environ[\"TF_CPP_MIN_LOG_LEVEL\"] = \"2\"  # 디버그 메시지 끄기\n",
    "\n",
    "\n",
    "gpus = tf.config.experimental.list_physical_devices(\"GPU\")\n",
    "if gpus:\n",
    "    try:\n",
    "        # tf.config.experimental.set_visible_devices(gpus[0], \"GPU\")\n",
    "        tf.config.experimental.set_memory_growth(gpus[0], True)\n",
    "    except RuntimeError as e:\n",
    "        print(e)\n",
    "\n",
    "model_options = deeplabcut.create_project.modelzoo.Modeloptions[8]\n",
    "print(model_options)"
   ]
  },
  {
   "cell_type": "code",
   "execution_count": 2,
   "metadata": {},
   "outputs": [],
   "source": [
    "video_path = \"/home/pieroot/jupyter/DLC/videos/coco_train01.mp4\"\n",
    "\n",
    "\n",
    "videotype = os.path.splitext(video_path)[-1].lstrip(\n",
    "    \".\"\n",
    ")  # or MOV, or avi, whatever you uploaded!\n",
    "\n",
    "project_name = \"Zoo\"\n",
    "your_name = \"test01\"\n",
    "\n",
    "project_path = \"/drive/samba/private_files/jupyter/DLC\"  # 프로젝트 위치\n",
    "\n",
    "config_path = os.path.join(project_path, project_name, \"config.yaml\")\n",
    "train_config_path = os.path.join(\n",
    "    project_path,\n",
    "    project_name,\n",
    "    \"dlc-models/iteration-0/ZooJul15-trainset95shuffle1/train/pose_cfg.yaml\",\n",
    ")\n",
    "full_video_path = os.path.join(\n",
    "    project_path,\n",
    "    \"videos\",\n",
    "    os.path.basename(video_path),\n",
    ")\n",
    "# config_path, train_config_path = deeplabcut.create_pretrained_project(\n",
    "#     project_name,\n",
    "#     your_name,\n",
    "#     [video_path],\n",
    "#     videotype=videotype,\n",
    "#     model=model_options,\n",
    "#     analyzevideo=True,\n",
    "#     createlabeledvideo=True,\n",
    "#     copy_videos=True,  # must leave copy_videos=True\n",
    "# )\n",
    "\n",
    "\n",
    "# 모델 zoo 사용하여 영상 출력\n",
    "# superanimal_name = model_options\n",
    "# scale_list = range(200, 600, 50)  # image height pixel size range and increment\n",
    "# deeplabcut.video_inference_superanimal([video_path], superanimal_name, scale_list=scale_list)"
   ]
  },
  {
   "cell_type": "code",
   "execution_count": 3,
   "metadata": {},
   "outputs": [
    {
     "name": "stdout",
     "output_type": "stream",
     "text": [
      "config_path:  /drive/samba/private_files/jupyter/DLC/Zoo/config.yaml\n",
      "train_config_path:  /drive/samba/private_files/jupyter/DLC/Zoo/dlc-models/iteration-0/ZooJul15-trainset95shuffle1/train/pose_cfg.yaml\n"
     ]
    }
   ],
   "source": [
    "print(\"config_path: \", config_path)\n",
    "print(\"train_config_path: \", train_config_path)"
   ]
  },
  {
   "cell_type": "code",
   "execution_count": 14,
   "metadata": {},
   "outputs": [
    {
     "name": "stdout",
     "output_type": "stream",
     "text": [
      "Using snapshot-700000 for model /drive/samba/private_files/jupyter/DLC/Zoo/dlc-models/iteration-0/ZooJul15-trainset95shuffle1\n"
     ]
    },
    {
     "name": "stderr",
     "output_type": "stream",
     "text": [
      "/home/pieroot/miniconda3/envs/deeplabcut/lib/python3.8/site-packages/tensorflow/python/keras/engine/base_layer_v1.py:1694: UserWarning: `layer.apply` is deprecated and will be removed in a future version. Please use `layer.__call__` method instead.\n",
      "  warnings.warn('`layer.apply` is deprecated and '\n",
      "2023-07-18 11:40:02.237379: I tensorflow/stream_executor/cuda/cuda_gpu_executor.cc:980] successful NUMA node read from SysFS had negative value (-1), but there must be at least one NUMA node, so returning NUMA node zero\n",
      "2023-07-18 11:40:02.237587: I tensorflow/stream_executor/cuda/cuda_gpu_executor.cc:980] successful NUMA node read from SysFS had negative value (-1), but there must be at least one NUMA node, so returning NUMA node zero\n",
      "2023-07-18 11:40:02.237741: I tensorflow/stream_executor/cuda/cuda_gpu_executor.cc:980] successful NUMA node read from SysFS had negative value (-1), but there must be at least one NUMA node, so returning NUMA node zero\n",
      "2023-07-18 11:40:02.237916: I tensorflow/stream_executor/cuda/cuda_gpu_executor.cc:980] successful NUMA node read from SysFS had negative value (-1), but there must be at least one NUMA node, so returning NUMA node zero\n",
      "2023-07-18 11:40:02.238045: I tensorflow/stream_executor/cuda/cuda_gpu_executor.cc:980] successful NUMA node read from SysFS had negative value (-1), but there must be at least one NUMA node, so returning NUMA node zero\n",
      "2023-07-18 11:40:02.238125: I tensorflow/core/common_runtime/gpu/gpu_device.cc:1616] Created device /job:localhost/replica:0/task:0/device:GPU:0 with 4193 MB memory:  -> device: 0, name: NVIDIA GeForce RTX 3060, pci bus id: 0000:09:00.0, compute capability: 8.6\n"
     ]
    },
    {
     "name": "stdout",
     "output_type": "stream",
     "text": [
      "Starting to analyze %  /drive/samba/private_files/jupyter/DLC/videos/coco_train02.mov\n",
      "The videos are analyzed. Now your research can truly start! \n",
      " You can create labeled videos with 'create_labeled_video'\n",
      "If the tracking is not satisfactory for some videos, consider expanding the training set. You can use the function 'extract_outlier_frames' to extract a few representative outlier frames.\n",
      "Starting to process video: /drive/samba/private_files/jupyter/DLC/videos/coco_train02.mov\n",
      "Loading /drive/samba/private_files/jupyter/DLC/videos/coco_train02.mov and data.\n",
      "Duration of video [s]: 9.04, recorded with 29.97 fps!\n",
      "Overall # of frames: 271 with cropped frame dimensions: 640 360\n",
      "Generating frames and creating video.\n"
     ]
    },
    {
     "name": "stderr",
     "output_type": "stream",
     "text": [
      "100%|██████████| 271/271 [00:00<00:00, 452.71it/s]\n"
     ]
    },
    {
     "data": {
      "text/plain": [
       "[True]"
      ]
     },
     "execution_count": 14,
     "metadata": {},
     "output_type": "execute_result"
    }
   ],
   "source": [
    "video_path = \"videos/coco_train02.mov\"\n",
    "videotype = os.path.splitext(video_path)[-1].lstrip(\".\")  # or MOV\n",
    "full_video_path = os.path.abspath(video_path)\n",
    "\n",
    "deeplabcut.analyze_videos(config_path, [full_video_path], shuffle=1, save_as_csv=True)\n",
    "\n",
    "deeplabcut.create_labeled_video(\n",
    "    config_path, [full_video_path], videotype=videotype, filtered=False, skeleton=True\n",
    ")"
   ]
  },
  {
   "cell_type": "code",
   "execution_count": 20,
   "metadata": {},
   "outputs": [
    {
     "name": "stdout",
     "output_type": "stream",
     "text": [
      "['nose', 'upper_jaw', 'lower_jaw', 'mouth_end_right', 'mouth_end_left', 'right_eye', 'right_earbase', 'right_earend', 'right_antler_base', 'right_antler_end', 'left_eye', 'left_earbase', 'left_earend', 'left_antler_base', 'left_antler_end', 'neck_base', 'neck_end', 'throat_base', 'throat_end', 'back_base', 'back_end', 'back_middle', 'tail_base', 'tail_end', 'front_left_thai', 'front_left_knee', 'front_left_paw', 'front_right_thai', 'front_right_knee', 'front_right_paw', 'back_left_paw', 'back_left_thai', 'back_right_thai', 'back_left_knee', 'back_right_knee', 'back_right_paw', 'belly_bottom', 'body_middle_right', 'body_middle_left']\n"
     ]
    }
   ],
   "source": [
    "import yaml\n",
    "\n",
    "with open(\"Zoo/config.yaml\") as f:\n",
    "    conf_yaml = yaml.load(f, Loader=yaml.FullLoader)\n",
    "\n",
    "    # print(conf_yaml[\"bodyparts\"])\n",
    "    keypoint = []\n",
    "    for part in conf_yaml[\"bodyparts\"]:\n",
    "        keypoint.append(part)\n",
    "\n",
    "print(keypoint)"
   ]
  }
 ],
 "metadata": {
  "kernelspec": {
   "display_name": "deeplabcut",
   "language": "python",
   "name": "python3"
  },
  "language_info": {
   "codemirror_mode": {
    "name": "ipython",
    "version": 3
   },
   "file_extension": ".py",
   "mimetype": "text/x-python",
   "name": "python",
   "nbconvert_exporter": "python",
   "pygments_lexer": "ipython3",
   "version": "3.8.17"
  },
  "orig_nbformat": 4
 },
 "nbformat": 4,
 "nbformat_minor": 2
}
