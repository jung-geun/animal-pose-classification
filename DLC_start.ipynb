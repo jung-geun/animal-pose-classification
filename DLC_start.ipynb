{
 "cells": [
  {
   "cell_type": "code",
   "execution_count": 1,
   "id": "a1855bc1-0392-47a8-8138-8a0be7382122",
   "metadata": {
    "tags": []
   },
   "outputs": [
    {
     "name": "stdout",
     "output_type": "stream",
     "text": [
      "Loading DLC 2.3.2...\n"
     ]
    },
    {
     "name": "stderr",
     "output_type": "stream",
     "text": [
      "/home/dlc/miniconda3/envs/deeplabcut/lib/python3.8/site-packages/tqdm/auto.py:21: TqdmWarning: IProgress not found. Please update jupyter and ipywidgets. See https://ipywidgets.readthedocs.io/en/stable/user_install.html\n",
      "  from .autonotebook import tqdm as notebook_tqdm\n"
     ]
    }
   ],
   "source": [
    "import deeplabcut\n",
    "\n",
    "# import tensorflow as tf\n",
    "# print(tf.__version__)\n",
    "\n",
    "path='/drive/samba/private_files/jupyter/DLC/'    # 프로젝트 위치\n",
    "\n",
    "project_name='dog1'  # 프로젝트 이름\n",
    "experimenter='test' # 작성자 이름\n",
    "\n",
    "# deeplabcut.create_new_project(project_name, 'test', [path+'coco_train02.mov'], working_directory=path, copy_videos=True, multianimal=False)"
   ]
  },
  {
   "cell_type": "code",
   "execution_count": 2,
   "id": "c0b04d66-45c4-43b2-a402-18adb0271329",
   "metadata": {
    "tags": []
   },
   "outputs": [
    {
     "data": {
      "text/plain": [
       "'/drive/samba/private_files/jupyter/DLC/dog1/config.yaml'"
      ]
     },
     "execution_count": 2,
     "metadata": {},
     "output_type": "execute_result"
    }
   ],
   "source": [
    "config_path=path+project_name+'/config.yaml'\n",
    "\n",
    "config_path"
   ]
  },
  {
   "cell_type": "code",
   "execution_count": 3,
   "id": "351bf006-333a-40e2-8f20-d2f133389da7",
   "metadata": {
    "tags": []
   },
   "outputs": [
    {
     "name": "stdout",
     "output_type": "stream",
     "text": [
      "Config file read successfully.\n",
      "Extracting frames based on uniform ...\n",
      "Uniformly extracting of frames from 0.0  seconds to 9.04  seconds.\n",
      "Frames were successfully extracted, for the videos listed in the config.yaml file.\n",
      "\n",
      "You can now label the frames using the function 'label_frames' (Note, you should label frames extracted from diverse videos (and many videos; we do not recommend training on single videos!)).\n"
     ]
    }
   ],
   "source": [
    "deeplabcut.extract_frames(config_path, mode='automatic', algo='uniform', userfeedback=False)"
   ]
  },
  {
   "cell_type": "code",
   "execution_count": 4,
   "id": "d986ac34-52af-4ffa-9b8d-2592509e355d",
   "metadata": {
    "tags": []
   },
   "outputs": [],
   "source": [
    "# deeplabcut.label_frames(config_path)  # gui 필요할것으로 추정"
   ]
  },
  {
   "cell_type": "code",
   "execution_count": 5,
   "id": "0c4e3c6f-c353-4ef3-a10d-8cdd9eea8ed8",
   "metadata": {
    "tags": []
   },
   "outputs": [
    {
     "name": "stdout",
     "output_type": "stream",
     "text": [
      "Creating images with labels by test.\n"
     ]
    },
    {
     "name": "stderr",
     "output_type": "stream",
     "text": [
      "100%|██████████| 34/34 [00:03<00:00, 10.20it/s]"
     ]
    },
    {
     "name": "stdout",
     "output_type": "stream",
     "text": [
      "If all the labels are ok, then use the function 'create_training_dataset' to create the training dataset!\n",
      "The training dataset is successfully created. Use the function 'train_network' to start training. Happy training!\n"
     ]
    },
    {
     "name": "stderr",
     "output_type": "stream",
     "text": [
      "\n"
     ]
    },
    {
     "data": {
      "text/plain": [
       "[(0.95,\n",
       "  1,\n",
       "  (array([ 0,  8,  9, 13, 29,  4, 16, 14, 10, 32,  6, 23, 30, 19, 11, 15, 21,\n",
       "          24, 12, 22,  5,  2, 20, 26, 33,  1, 17, 18, 31, 28,  7,  3]),\n",
       "   array([25, 27])))]"
      ]
     },
     "execution_count": 5,
     "metadata": {},
     "output_type": "execute_result"
    }
   ],
   "source": [
    "deeplabcut.check_labels(config_path, visualizeindividuals=False)\n",
    "deeplabcut.create_training_dataset(config_path, augmenter_type='imgaug')"
   ]
  },
  {
   "cell_type": "code",
   "execution_count": 3,
   "id": "e2e6420a-3c5b-4c18-8de6-d187b5f8bda6",
   "metadata": {
    "tags": []
   },
   "outputs": [
    {
     "name": "stderr",
     "output_type": "stream",
     "text": [
      "Config:\n",
      "{'all_joints': [[0],\n",
      "                [1],\n",
      "                [2],\n",
      "                [3],\n",
      "                [4],\n",
      "                [5],\n",
      "                [6],\n",
      "                [7],\n",
      "                [8],\n",
      "                [9],\n",
      "                [10],\n",
      "                [11],\n",
      "                [12],\n",
      "                [13],\n",
      "                [14],\n",
      "                [15],\n",
      "                [16],\n",
      "                [17],\n",
      "                [18],\n",
      "                [19],\n",
      "                [20]],\n",
      " 'all_joints_names': ['Left_Front_Paw',\n",
      "                      'Left_Front_Wrist',\n",
      "                      'Left_Front_Elbow',\n",
      "                      'Left_Back_Paw',\n",
      "                      'Left_Back_Wrist',\n",
      "                      'Left_Back_Elbow',\n",
      "                      'Right_Front_Paw',\n",
      "                      'Right_Front_Wrist',\n",
      "                      'Right_Front_Elbow',\n",
      "                      'Right_Back_Paw',\n",
      "                      'Right_Back_Wrist',\n",
      "                      'Right_Back_Elbow',\n",
      "                      'Tail_Set',\n",
      "                      'Tail_Tip',\n",
      "                      'Left_Base_Ear',\n",
      "                      'Right_Base_Ear',\n",
      "                      'Nose',\n",
      "                      'Chin',\n",
      "                      'Left_Tip_Ear',\n",
      "                      'Right_Tip_Ear',\n",
      "                      'Withers'],\n",
      " 'alpha_r': 0.02,\n",
      " 'apply_prob': 0.5,\n",
      " 'batch_size': 1,\n",
      " 'contrast': {'clahe': True,\n",
      "              'claheratio': 0.1,\n",
      "              'histeq': True,\n",
      "              'histeqratio': 0.1},\n",
      " 'convolution': {'edge': False,\n",
      "                 'emboss': {'alpha': [0.0, 1.0], 'strength': [0.5, 1.5]},\n",
      "                 'embossratio': 0.1,\n",
      "                 'sharpen': False,\n",
      "                 'sharpenratio': 0.3},\n",
      " 'crop_pad': 0,\n",
      " 'cropratio': 0.4,\n",
      " 'dataset': 'training-datasets/iteration-0/UnaugmentedDataSet_dog1Mar24/dog1_test95shuffle1.mat',\n",
      " 'dataset_type': 'imgaug',\n",
      " 'decay_steps': 30000,\n",
      " 'deterministic': False,\n",
      " 'display_iters': 1000,\n",
      " 'fg_fraction': 0.25,\n",
      " 'global_scale': 0.8,\n",
      " 'init_weights': '/home/dlc/miniconda3/envs/deeplabcut/lib/python3.8/site-packages/deeplabcut/pose_estimation_tensorflow/models/pretrained/resnet_v1_50.ckpt',\n",
      " 'intermediate_supervision': False,\n",
      " 'intermediate_supervision_layer': 12,\n",
      " 'location_refinement': True,\n",
      " 'locref_huber_loss': True,\n",
      " 'locref_loss_weight': 0.05,\n",
      " 'locref_stdev': 7.2801,\n",
      " 'log_dir': 'log',\n",
      " 'lr_init': 0.0005,\n",
      " 'max_input_size': 1500,\n",
      " 'mean_pixel': [123.68, 116.779, 103.939],\n",
      " 'metadataset': 'training-datasets/iteration-0/UnaugmentedDataSet_dog1Mar24/Documentation_data-dog1_95shuffle1.pickle',\n",
      " 'min_input_size': 64,\n",
      " 'mirror': False,\n",
      " 'multi_stage': False,\n",
      " 'multi_step': [[0.005, 10000],\n",
      "                [0.02, 430000],\n",
      "                [0.002, 730000],\n",
      "                [0.001, 1030000]],\n",
      " 'net_type': 'resnet_50',\n",
      " 'num_joints': 21,\n",
      " 'optimizer': 'sgd',\n",
      " 'pairwise_huber_loss': False,\n",
      " 'pairwise_predict': False,\n",
      " 'partaffinityfield_predict': False,\n",
      " 'pos_dist_thresh': 17,\n",
      " 'project_path': '/drive/samba/private_files/jupyter/DLC/dog1',\n",
      " 'regularize': False,\n",
      " 'rotation': 25,\n",
      " 'rotratio': 0.4,\n",
      " 'save_iters': 50000,\n",
      " 'scale_jitter_lo': 0.5,\n",
      " 'scale_jitter_up': 1.25,\n",
      " 'scoremap_dir': 'test',\n",
      " 'shuffle': True,\n",
      " 'snapshot_prefix': '/drive/samba/private_files/jupyter/DLC/dog1/dlc-models/iteration-0/dog1Mar24-trainset95shuffle1/train/snapshot',\n",
      " 'stride': 8.0,\n",
      " 'weigh_negatives': False,\n",
      " 'weigh_only_present_joints': False,\n",
      " 'weigh_part_predictions': False,\n",
      " 'weight_decay': 0.0001}\n"
     ]
    },
    {
     "name": "stdout",
     "output_type": "stream",
     "text": [
      "Selecting single-animal trainer\n",
      "Batch Size is 1\n"
     ]
    },
    {
     "name": "stderr",
     "output_type": "stream",
     "text": [
      "/home/dlc/miniconda3/envs/deeplabcut/lib/python3.8/site-packages/tensorflow/python/keras/engine/base_layer_v1.py:1694: UserWarning: `layer.apply` is deprecated and will be removed in a future version. Please use `layer.__call__` method instead.\n",
      "  warnings.warn('`layer.apply` is deprecated and '\n",
      "2023-04-17 14:59:02.541884: I tensorflow/stream_executor/cuda/cuda_gpu_executor.cc:975] successful NUMA node read from SysFS had negative value (-1), but there must be at least one NUMA node, so returning NUMA node zero\n",
      "2023-04-17 14:59:02.561181: I tensorflow/stream_executor/cuda/cuda_gpu_executor.cc:975] successful NUMA node read from SysFS had negative value (-1), but there must be at least one NUMA node, so returning NUMA node zero\n",
      "2023-04-17 14:59:02.561376: I tensorflow/stream_executor/cuda/cuda_gpu_executor.cc:975] successful NUMA node read from SysFS had negative value (-1), but there must be at least one NUMA node, so returning NUMA node zero\n",
      "2023-04-17 14:59:02.562514: I tensorflow/core/platform/cpu_feature_guard.cc:193] This TensorFlow binary is optimized with oneAPI Deep Neural Network Library (oneDNN) to use the following CPU instructions in performance-critical operations:  AVX2 FMA\n",
      "To enable them in other operations, rebuild TensorFlow with the appropriate compiler flags.\n",
      "2023-04-17 14:59:02.563015: I tensorflow/stream_executor/cuda/cuda_gpu_executor.cc:975] successful NUMA node read from SysFS had negative value (-1), but there must be at least one NUMA node, so returning NUMA node zero\n",
      "2023-04-17 14:59:02.563174: I tensorflow/stream_executor/cuda/cuda_gpu_executor.cc:975] successful NUMA node read from SysFS had negative value (-1), but there must be at least one NUMA node, so returning NUMA node zero\n",
      "2023-04-17 14:59:02.563303: I tensorflow/stream_executor/cuda/cuda_gpu_executor.cc:975] successful NUMA node read from SysFS had negative value (-1), but there must be at least one NUMA node, so returning NUMA node zero\n",
      "2023-04-17 14:59:02.913370: I tensorflow/stream_executor/cuda/cuda_gpu_executor.cc:975] successful NUMA node read from SysFS had negative value (-1), but there must be at least one NUMA node, so returning NUMA node zero\n",
      "2023-04-17 14:59:02.913544: I tensorflow/stream_executor/cuda/cuda_gpu_executor.cc:975] successful NUMA node read from SysFS had negative value (-1), but there must be at least one NUMA node, so returning NUMA node zero\n",
      "2023-04-17 14:59:02.913679: I tensorflow/stream_executor/cuda/cuda_gpu_executor.cc:975] successful NUMA node read from SysFS had negative value (-1), but there must be at least one NUMA node, so returning NUMA node zero\n",
      "2023-04-17 14:59:02.913754: W tensorflow/core/common_runtime/gpu/gpu_bfc_allocator.cc:42] Overriding orig_value setting because the TF_FORCE_GPU_ALLOW_GROWTH environment variable is set. Original config value was 0.\n",
      "2023-04-17 14:59:02.913775: I tensorflow/core/common_runtime/gpu/gpu_device.cc:1532] Created device /job:localhost/replica:0/task:0/device:GPU:0 with 10222 MB memory:  -> device: 0, name: NVIDIA GeForce RTX 3060, pci bus id: 0000:09:00.0, compute capability: 8.6\n"
     ]
    },
    {
     "name": "stdout",
     "output_type": "stream",
     "text": [
      "Loading ImageNet-pretrained resnet_50\n"
     ]
    },
    {
     "name": "stderr",
     "output_type": "stream",
     "text": [
      "2023-04-17 14:59:03.197858: I tensorflow/stream_executor/cuda/cuda_gpu_executor.cc:975] successful NUMA node read from SysFS had negative value (-1), but there must be at least one NUMA node, so returning NUMA node zero\n",
      "2023-04-17 14:59:03.198057: I tensorflow/stream_executor/cuda/cuda_gpu_executor.cc:975] successful NUMA node read from SysFS had negative value (-1), but there must be at least one NUMA node, so returning NUMA node zero\n",
      "2023-04-17 14:59:03.198188: I tensorflow/stream_executor/cuda/cuda_gpu_executor.cc:975] successful NUMA node read from SysFS had negative value (-1), but there must be at least one NUMA node, so returning NUMA node zero\n",
      "2023-04-17 14:59:03.198355: I tensorflow/stream_executor/cuda/cuda_gpu_executor.cc:975] successful NUMA node read from SysFS had negative value (-1), but there must be at least one NUMA node, so returning NUMA node zero\n",
      "2023-04-17 14:59:03.198488: I tensorflow/stream_executor/cuda/cuda_gpu_executor.cc:975] successful NUMA node read from SysFS had negative value (-1), but there must be at least one NUMA node, so returning NUMA node zero\n",
      "2023-04-17 14:59:03.198564: I tensorflow/core/common_runtime/gpu/gpu_device.cc:1532] Created device /job:localhost/replica:0/task:0/device:GPU:0 with 10222 MB memory:  -> device: 0, name: NVIDIA GeForce RTX 3060, pci bus id: 0000:09:00.0, compute capability: 8.6\n",
      "2023-04-17 14:59:03.889446: I tensorflow/compiler/mlir/mlir_graph_optimization_pass.cc:354] MLIR V1 optimization pass is not enabled\n"
     ]
    },
    {
     "name": "stdout",
     "output_type": "stream",
     "text": [
      "Max_iters overwritten as 30000\n",
      "Display_iters overwritten as 500\n",
      "Save_iters overwritten as 10000\n",
      "Training parameter:\n",
      "{'stride': 8.0, 'weigh_part_predictions': False, 'weigh_negatives': False, 'fg_fraction': 0.25, 'mean_pixel': [123.68, 116.779, 103.939], 'shuffle': True, 'snapshot_prefix': '/drive/samba/private_files/jupyter/DLC/dog1/dlc-models/iteration-0/dog1Mar24-trainset95shuffle1/train/snapshot', 'log_dir': 'log', 'global_scale': 0.8, 'location_refinement': True, 'locref_stdev': 7.2801, 'locref_loss_weight': 0.05, 'locref_huber_loss': True, 'optimizer': 'sgd', 'intermediate_supervision': False, 'intermediate_supervision_layer': 12, 'regularize': False, 'weight_decay': 0.0001, 'crop_pad': 0, 'scoremap_dir': 'test', 'batch_size': 1, 'dataset_type': 'imgaug', 'deterministic': False, 'mirror': False, 'pairwise_huber_loss': False, 'weigh_only_present_joints': False, 'partaffinityfield_predict': False, 'pairwise_predict': False, 'all_joints': [[0], [1], [2], [3], [4], [5], [6], [7], [8], [9], [10], [11], [12], [13], [14], [15], [16], [17], [18], [19], [20]], 'all_joints_names': ['Left_Front_Paw', 'Left_Front_Wrist', 'Left_Front_Elbow', 'Left_Back_Paw', 'Left_Back_Wrist', 'Left_Back_Elbow', 'Right_Front_Paw', 'Right_Front_Wrist', 'Right_Front_Elbow', 'Right_Back_Paw', 'Right_Back_Wrist', 'Right_Back_Elbow', 'Tail_Set', 'Tail_Tip', 'Left_Base_Ear', 'Right_Base_Ear', 'Nose', 'Chin', 'Left_Tip_Ear', 'Right_Tip_Ear', 'Withers'], 'alpha_r': 0.02, 'apply_prob': 0.5, 'contrast': {'clahe': True, 'claheratio': 0.1, 'histeq': True, 'histeqratio': 0.1, 'gamma': False, 'sigmoid': False, 'log': False, 'linear': False}, 'convolution': {'edge': False, 'emboss': {'alpha': [0.0, 1.0], 'strength': [0.5, 1.5]}, 'embossratio': 0.1, 'sharpen': False, 'sharpenratio': 0.3}, 'cropratio': 0.4, 'dataset': 'training-datasets/iteration-0/UnaugmentedDataSet_dog1Mar24/dog1_test95shuffle1.mat', 'decay_steps': 30000, 'display_iters': 1000, 'init_weights': '/home/dlc/miniconda3/envs/deeplabcut/lib/python3.8/site-packages/deeplabcut/pose_estimation_tensorflow/models/pretrained/resnet_v1_50.ckpt', 'lr_init': 0.0005, 'max_input_size': 1500, 'metadataset': 'training-datasets/iteration-0/UnaugmentedDataSet_dog1Mar24/Documentation_data-dog1_95shuffle1.pickle', 'min_input_size': 64, 'multi_stage': False, 'multi_step': [[0.005, 10000], [0.02, 430000], [0.002, 730000], [0.001, 1030000]], 'net_type': 'resnet_50', 'num_joints': 21, 'pos_dist_thresh': 17, 'project_path': '/drive/samba/private_files/jupyter/DLC/dog1', 'rotation': 25, 'rotratio': 0.4, 'save_iters': 50000, 'scale_jitter_lo': 0.5, 'scale_jitter_up': 1.25, 'covering': True, 'elastic_transform': True, 'motion_blur': True, 'motion_blur_params': {'k': 7, 'angle': (-90, 90)}}\n",
      "Starting training....\n"
     ]
    },
    {
     "name": "stderr",
     "output_type": "stream",
     "text": [
      "2023-04-17 14:59:07.308262: I tensorflow/stream_executor/cuda/cuda_dnn.cc:384] Loaded cuDNN version 8600\n",
      "2023-04-17 14:59:07.746395: I tensorflow/core/platform/default/subprocess.cc:304] Start cannot spawn child process: Permission denied\n",
      "iteration: 500 loss: 0.0445 lr: 0.005\n",
      "iteration: 1000 loss: 0.0263 lr: 0.005\n",
      "iteration: 1500 loss: 0.0213 lr: 0.005\n",
      "iteration: 2000 loss: 0.0177 lr: 0.005\n",
      "iteration: 2500 loss: 0.0162 lr: 0.005\n",
      "iteration: 3000 loss: 0.0150 lr: 0.005\n",
      "iteration: 3500 loss: 0.0137 lr: 0.005\n",
      "iteration: 4000 loss: 0.0132 lr: 0.005\n",
      "iteration: 4500 loss: 0.0123 lr: 0.005\n",
      "iteration: 5000 loss: 0.0117 lr: 0.005\n",
      "iteration: 5500 loss: 0.0110 lr: 0.005\n",
      "iteration: 6000 loss: 0.0110 lr: 0.005\n",
      "iteration: 6500 loss: 0.0105 lr: 0.005\n",
      "iteration: 7000 loss: 0.0103 lr: 0.005\n",
      "iteration: 7500 loss: 0.0096 lr: 0.005\n",
      "iteration: 8000 loss: 0.0092 lr: 0.005\n",
      "iteration: 8500 loss: 0.0092 lr: 0.005\n",
      "iteration: 9000 loss: 0.0090 lr: 0.005\n",
      "iteration: 9500 loss: 0.0091 lr: 0.005\n",
      "iteration: 10000 loss: 0.0088 lr: 0.005\n",
      "iteration: 10500 loss: 0.0109 lr: 0.02\n",
      "iteration: 11000 loss: 0.0098 lr: 0.02\n",
      "iteration: 11500 loss: 0.0090 lr: 0.02\n",
      "iteration: 12000 loss: 0.0084 lr: 0.02\n",
      "iteration: 12500 loss: 0.0080 lr: 0.02\n",
      "iteration: 13000 loss: 0.0077 lr: 0.02\n",
      "iteration: 13500 loss: 0.0074 lr: 0.02\n",
      "iteration: 14000 loss: 0.0071 lr: 0.02\n",
      "iteration: 14500 loss: 0.0068 lr: 0.02\n",
      "iteration: 15000 loss: 0.0068 lr: 0.02\n",
      "iteration: 15500 loss: 0.0066 lr: 0.02\n",
      "iteration: 16000 loss: 0.0063 lr: 0.02\n",
      "iteration: 16500 loss: 0.0063 lr: 0.02\n",
      "iteration: 17000 loss: 0.0062 lr: 0.02\n",
      "iteration: 17500 loss: 0.0060 lr: 0.02\n",
      "iteration: 18000 loss: 0.0058 lr: 0.02\n",
      "iteration: 18500 loss: 0.0058 lr: 0.02\n",
      "iteration: 19000 loss: 0.0056 lr: 0.02\n",
      "iteration: 19500 loss: 0.0054 lr: 0.02\n",
      "iteration: 20000 loss: 0.0054 lr: 0.02\n",
      "iteration: 20500 loss: 0.0052 lr: 0.02\n",
      "iteration: 21000 loss: 0.0053 lr: 0.02\n",
      "iteration: 21500 loss: 0.0050 lr: 0.02\n",
      "iteration: 22000 loss: 0.0051 lr: 0.02\n",
      "iteration: 22500 loss: 0.0050 lr: 0.02\n",
      "iteration: 23000 loss: 0.0049 lr: 0.02\n",
      "iteration: 23500 loss: 0.0048 lr: 0.02\n",
      "iteration: 24000 loss: 0.0048 lr: 0.02\n",
      "iteration: 24500 loss: 0.0048 lr: 0.02\n",
      "iteration: 25000 loss: 0.0048 lr: 0.02\n",
      "iteration: 25500 loss: 0.0046 lr: 0.02\n",
      "iteration: 26000 loss: 0.0045 lr: 0.02\n",
      "iteration: 26500 loss: 0.0047 lr: 0.02\n",
      "iteration: 27000 loss: 0.0044 lr: 0.02\n",
      "iteration: 27500 loss: 0.0045 lr: 0.02\n",
      "iteration: 28000 loss: 0.0045 lr: 0.02\n",
      "iteration: 28500 loss: 0.0044 lr: 0.02\n",
      "iteration: 29000 loss: 0.0044 lr: 0.02\n",
      "iteration: 29500 loss: 0.0043 lr: 0.02\n",
      "iteration: 30000 loss: 0.0043 lr: 0.02\n",
      "2023-04-17 15:16:40.599055: W tensorflow/core/kernels/queue_base.cc:277] _0_fifo_queue: Skipping cancelled enqueue attempt with queue not closed\n",
      "Exception in thread Thread-5:\n",
      "Traceback (most recent call last):\n",
      "  File \"/home/dlc/miniconda3/envs/deeplabcut/lib/python3.8/site-packages/tensorflow/python/client/session.py\", line 1377, in _do_call\n",
      "    return fn(*args)\n",
      "  File \"/home/dlc/miniconda3/envs/deeplabcut/lib/python3.8/site-packages/tensorflow/python/client/session.py\", line 1360, in _run_fn\n",
      "    return self._call_tf_sessionrun(options, feed_dict, fetch_list,\n",
      "  File \"/home/dlc/miniconda3/envs/deeplabcut/lib/python3.8/site-packages/tensorflow/python/client/session.py\", line 1453, in _call_tf_sessionrun\n",
      "    return tf_session.TF_SessionRun_wrapper(self._session, options, feed_dict,\n",
      "tensorflow.python.framework.errors_impl.CancelledError: Enqueue operation was cancelled\n",
      "\t [[{{node fifo_queue_enqueue}}]]\n",
      "\n",
      "During handling of the above exception, another exception occurred:\n",
      "\n",
      "Traceback (most recent call last):\n",
      "  File \"/home/dlc/miniconda3/envs/deeplabcut/lib/python3.8/threading.py\", line 932, in _bootstrap_inner\n",
      "    self.run()\n",
      "  File \"/home/dlc/miniconda3/envs/deeplabcut/lib/python3.8/threading.py\", line 870, in run\n",
      "    self._target(*self._args, **self._kwargs)\n",
      "  File \"/home/dlc/miniconda3/envs/deeplabcut/lib/python3.8/site-packages/deeplabcut/pose_estimation_tensorflow/core/train.py\", line 85, in load_and_enqueue\n",
      "    sess.run(enqueue_op, feed_dict=food)\n",
      "  File \"/home/dlc/miniconda3/envs/deeplabcut/lib/python3.8/site-packages/tensorflow/python/client/session.py\", line 967, in run\n",
      "    result = self._run(None, fetches, feed_dict, options_ptr,\n",
      "  File \"/home/dlc/miniconda3/envs/deeplabcut/lib/python3.8/site-packages/tensorflow/python/client/session.py\", line 1190, in _run\n",
      "    results = self._do_run(handle, final_targets, final_fetches,\n",
      "  File \"/home/dlc/miniconda3/envs/deeplabcut/lib/python3.8/site-packages/tensorflow/python/client/session.py\", line 1370, in _do_run\n",
      "    return self._do_call(_run_fn, feeds, fetches, targets, options,\n",
      "  File \"/home/dlc/miniconda3/envs/deeplabcut/lib/python3.8/site-packages/tensorflow/python/client/session.py\", line 1396, in _do_call\n",
      "    raise type(e)(node_def, op, message)  # pylint: disable=no-value-for-parameter\n",
      "tensorflow.python.framework.errors_impl.CancelledError: Graph execution error:\n",
      "\n",
      "Detected at node 'fifo_queue_enqueue' defined at (most recent call last):\n",
      "    File \"/home/dlc/miniconda3/envs/deeplabcut/lib/python3.8/runpy.py\", line 194, in _run_module_as_main\n",
      "      return _run_code(code, main_globals, None,\n",
      "    File \"/home/dlc/miniconda3/envs/deeplabcut/lib/python3.8/runpy.py\", line 87, in _run_code\n",
      "      exec(code, run_globals)\n",
      "    File \"/home/dlc/miniconda3/envs/deeplabcut/lib/python3.8/site-packages/ipykernel_launcher.py\", line 17, in <module>\n",
      "      app.launch_new_instance()\n",
      "    File \"/home/dlc/miniconda3/envs/deeplabcut/lib/python3.8/site-packages/traitlets/config/application.py\", line 1043, in launch_instance\n",
      "      app.start()\n",
      "    File \"/home/dlc/miniconda3/envs/deeplabcut/lib/python3.8/site-packages/ipykernel/kernelapp.py\", line 725, in start\n",
      "      self.io_loop.start()\n",
      "    File \"/home/dlc/miniconda3/envs/deeplabcut/lib/python3.8/site-packages/tornado/platform/asyncio.py\", line 215, in start\n",
      "      self.asyncio_loop.run_forever()\n",
      "    File \"/home/dlc/miniconda3/envs/deeplabcut/lib/python3.8/asyncio/base_events.py\", line 570, in run_forever\n",
      "      self._run_once()\n",
      "    File \"/home/dlc/miniconda3/envs/deeplabcut/lib/python3.8/asyncio/base_events.py\", line 1859, in _run_once\n",
      "      handle._run()\n",
      "    File \"/home/dlc/miniconda3/envs/deeplabcut/lib/python3.8/asyncio/events.py\", line 81, in _run\n",
      "      self._context.run(self._callback, *self._args)\n",
      "    File \"/home/dlc/miniconda3/envs/deeplabcut/lib/python3.8/site-packages/ipykernel/kernelbase.py\", line 513, in dispatch_queue\n",
      "      await self.process_one()\n",
      "    File \"/home/dlc/miniconda3/envs/deeplabcut/lib/python3.8/site-packages/ipykernel/kernelbase.py\", line 502, in process_one\n",
      "      await dispatch(*args)\n",
      "    File \"/home/dlc/miniconda3/envs/deeplabcut/lib/python3.8/site-packages/ipykernel/kernelbase.py\", line 409, in dispatch_shell\n",
      "      await result\n",
      "    File \"/home/dlc/miniconda3/envs/deeplabcut/lib/python3.8/site-packages/ipykernel/kernelbase.py\", line 729, in execute_request\n",
      "      reply_content = await reply_content\n",
      "    File \"/home/dlc/miniconda3/envs/deeplabcut/lib/python3.8/site-packages/ipykernel/ipkernel.py\", line 422, in do_execute\n",
      "      res = shell.run_cell(\n",
      "    File \"/home/dlc/miniconda3/envs/deeplabcut/lib/python3.8/site-packages/ipykernel/zmqshell.py\", line 540, in run_cell\n",
      "      return super().run_cell(*args, **kwargs)\n",
      "    File \"/home/dlc/miniconda3/envs/deeplabcut/lib/python3.8/site-packages/IPython/core/interactiveshell.py\", line 2961, in run_cell\n",
      "      result = self._run_cell(\n",
      "    File \"/home/dlc/miniconda3/envs/deeplabcut/lib/python3.8/site-packages/IPython/core/interactiveshell.py\", line 3016, in _run_cell\n",
      "      result = runner(coro)\n",
      "    File \"/home/dlc/miniconda3/envs/deeplabcut/lib/python3.8/site-packages/IPython/core/async_helpers.py\", line 129, in _pseudo_sync_runner\n",
      "      coro.send(None)\n",
      "    File \"/home/dlc/miniconda3/envs/deeplabcut/lib/python3.8/site-packages/IPython/core/interactiveshell.py\", line 3221, in run_cell_async\n",
      "      has_raised = await self.run_ast_nodes(code_ast.body, cell_name,\n",
      "    File \"/home/dlc/miniconda3/envs/deeplabcut/lib/python3.8/site-packages/IPython/core/interactiveshell.py\", line 3400, in run_ast_nodes\n",
      "      if await self.run_code(code, result, async_=asy):\n",
      "    File \"/home/dlc/miniconda3/envs/deeplabcut/lib/python3.8/site-packages/IPython/core/interactiveshell.py\", line 3460, in run_code\n",
      "      exec(code_obj, self.user_global_ns, self.user_ns)\n",
      "    File \"/tmp/ipykernel_3076152/54647567.py\", line 2, in <module>\n",
      "      deeplabcut.train_network(config_path, shuffle=1, displayiters=500, saveiters=10000, maxiters=30000, allow_growth=True)\n",
      "    File \"/home/dlc/miniconda3/envs/deeplabcut/lib/python3.8/site-packages/deeplabcut/pose_estimation_tensorflow/training.py\", line 212, in train_network\n",
      "      train(\n",
      "    File \"/home/dlc/miniconda3/envs/deeplabcut/lib/python3.8/site-packages/deeplabcut/pose_estimation_tensorflow/core/train.py\", line 171, in train\n",
      "      batch, enqueue_op, placeholders = setup_preloading(batch_spec)\n",
      "    File \"/home/dlc/miniconda3/envs/deeplabcut/lib/python3.8/site-packages/deeplabcut/pose_estimation_tensorflow/core/train.py\", line 71, in setup_preloading\n",
      "      enqueue_op = q.enqueue(placeholders_list)\n",
      "Node: 'fifo_queue_enqueue'\n",
      "Enqueue operation was cancelled\n",
      "\t [[{{node fifo_queue_enqueue}}]]\n",
      "\n",
      "Original stack trace for 'fifo_queue_enqueue':\n",
      "  File \"/home/dlc/miniconda3/envs/deeplabcut/lib/python3.8/runpy.py\", line 194, in _run_module_as_main\n",
      "    return _run_code(code, main_globals, None,\n",
      "  File \"/home/dlc/miniconda3/envs/deeplabcut/lib/python3.8/runpy.py\", line 87, in _run_code\n",
      "    exec(code, run_globals)\n",
      "  File \"/home/dlc/miniconda3/envs/deeplabcut/lib/python3.8/site-packages/ipykernel_launcher.py\", line 17, in <module>\n",
      "    app.launch_new_instance()\n",
      "  File \"/home/dlc/miniconda3/envs/deeplabcut/lib/python3.8/site-packages/traitlets/config/application.py\", line 1043, in launch_instance\n",
      "    app.start()\n",
      "  File \"/home/dlc/miniconda3/envs/deeplabcut/lib/python3.8/site-packages/ipykernel/kernelapp.py\", line 725, in start\n",
      "    self.io_loop.start()\n",
      "  File \"/home/dlc/miniconda3/envs/deeplabcut/lib/python3.8/site-packages/tornado/platform/asyncio.py\", line 215, in start\n",
      "    self.asyncio_loop.run_forever()\n",
      "  File \"/home/dlc/miniconda3/envs/deeplabcut/lib/python3.8/asyncio/base_events.py\", line 570, in run_forever\n",
      "    self._run_once()\n",
      "  File \"/home/dlc/miniconda3/envs/deeplabcut/lib/python3.8/asyncio/base_events.py\", line 1859, in _run_once\n",
      "    handle._run()\n",
      "  File \"/home/dlc/miniconda3/envs/deeplabcut/lib/python3.8/asyncio/events.py\", line 81, in _run\n",
      "    self._context.run(self._callback, *self._args)\n",
      "  File \"/home/dlc/miniconda3/envs/deeplabcut/lib/python3.8/site-packages/ipykernel/kernelbase.py\", line 513, in dispatch_queue\n",
      "    await self.process_one()\n",
      "  File \"/home/dlc/miniconda3/envs/deeplabcut/lib/python3.8/site-packages/ipykernel/kernelbase.py\", line 502, in process_one\n",
      "    await dispatch(*args)\n",
      "  File \"/home/dlc/miniconda3/envs/deeplabcut/lib/python3.8/site-packages/ipykernel/kernelbase.py\", line 409, in dispatch_shell\n",
      "    await result\n",
      "  File \"/home/dlc/miniconda3/envs/deeplabcut/lib/python3.8/site-packages/ipykernel/kernelbase.py\", line 729, in execute_request\n",
      "    reply_content = await reply_content\n",
      "  File \"/home/dlc/miniconda3/envs/deeplabcut/lib/python3.8/site-packages/ipykernel/ipkernel.py\", line 422, in do_execute\n",
      "    res = shell.run_cell(\n",
      "  File \"/home/dlc/miniconda3/envs/deeplabcut/lib/python3.8/site-packages/ipykernel/zmqshell.py\", line 540, in run_cell\n",
      "    return super().run_cell(*args, **kwargs)\n",
      "  File \"/home/dlc/miniconda3/envs/deeplabcut/lib/python3.8/site-packages/IPython/core/interactiveshell.py\", line 2961, in run_cell\n",
      "    result = self._run_cell(\n",
      "  File \"/home/dlc/miniconda3/envs/deeplabcut/lib/python3.8/site-packages/IPython/core/interactiveshell.py\", line 3016, in _run_cell\n",
      "    result = runner(coro)\n",
      "  File \"/home/dlc/miniconda3/envs/deeplabcut/lib/python3.8/site-packages/IPython/core/async_helpers.py\", line 129, in _pseudo_sync_runner\n",
      "    coro.send(None)\n",
      "  File \"/home/dlc/miniconda3/envs/deeplabcut/lib/python3.8/site-packages/IPython/core/interactiveshell.py\", line 3221, in run_cell_async\n",
      "    has_raised = await self.run_ast_nodes(code_ast.body, cell_name,\n",
      "  File \"/home/dlc/miniconda3/envs/deeplabcut/lib/python3.8/site-packages/IPython/core/interactiveshell.py\", line 3400, in run_ast_nodes\n",
      "    if await self.run_code(code, result, async_=asy):\n",
      "  File \"/home/dlc/miniconda3/envs/deeplabcut/lib/python3.8/site-packages/IPython/core/interactiveshell.py\", line 3460, in run_code\n",
      "    exec(code_obj, self.user_global_ns, self.user_ns)\n",
      "  File \"/tmp/ipykernel_3076152/54647567.py\", line 2, in <module>\n",
      "    deeplabcut.train_network(config_path, shuffle=1, displayiters=500, saveiters=10000, maxiters=30000, allow_growth=True)\n",
      "  File \"/home/dlc/miniconda3/envs/deeplabcut/lib/python3.8/site-packages/deeplabcut/pose_estimation_tensorflow/training.py\", line 212, in train_network\n",
      "    train(\n",
      "  File \"/home/dlc/miniconda3/envs/deeplabcut/lib/python3.8/site-packages/deeplabcut/pose_estimation_tensorflow/core/train.py\", line 171, in train\n",
      "    batch, enqueue_op, placeholders = setup_preloading(batch_spec)\n",
      "  File \"/home/dlc/miniconda3/envs/deeplabcut/lib/python3.8/site-packages/deeplabcut/pose_estimation_tensorflow/core/train.py\", line 71, in setup_preloading\n",
      "    enqueue_op = q.enqueue(placeholders_list)\n",
      "  File \"/home/dlc/miniconda3/envs/deeplabcut/lib/python3.8/site-packages/tensorflow/python/ops/data_flow_ops.py\", line 346, in enqueue\n",
      "    return gen_data_flow_ops.queue_enqueue_v2(\n",
      "  File \"/home/dlc/miniconda3/envs/deeplabcut/lib/python3.8/site-packages/tensorflow/python/ops/gen_data_flow_ops.py\", line 4063, in queue_enqueue_v2\n",
      "    _, _, _op, _outputs = _op_def_library._apply_op_helper(\n",
      "  File \"/home/dlc/miniconda3/envs/deeplabcut/lib/python3.8/site-packages/tensorflow/python/framework/op_def_library.py\", line 797, in _apply_op_helper\n",
      "    op = g._create_op_internal(op_type_name, inputs, dtypes=None,\n",
      "  File \"/home/dlc/miniconda3/envs/deeplabcut/lib/python3.8/site-packages/tensorflow/python/framework/ops.py\", line 3754, in _create_op_internal\n",
      "    ret = Operation(\n",
      "  File \"/home/dlc/miniconda3/envs/deeplabcut/lib/python3.8/site-packages/tensorflow/python/framework/ops.py\", line 2133, in __init__\n",
      "    self._traceback = tf_stack.extract_stack_for_node(self._c_op)\n",
      "\n"
     ]
    },
    {
     "name": "stdout",
     "output_type": "stream",
     "text": [
      "The network is now trained and ready to evaluate. Use the function 'evaluate_network' to evaluate the network.\n"
     ]
    }
   ],
   "source": [
    "# deeplabcut.train_network(config_path)\n",
    "deeplabcut.train_network(config_path, shuffle=1, displayiters=500, saveiters=10000, maxiters=50000, allow_growth=True)"
   ]
  },
  {
   "cell_type": "code",
   "execution_count": 4,
   "id": "de19fd3b-5b4b-4628-ac39-cfeaadce8e44",
   "metadata": {
    "tags": []
   },
   "outputs": [
    {
     "name": "stderr",
     "output_type": "stream",
     "text": [
      "Config:\n",
      "{'all_joints': [[0],\n",
      "                [1],\n",
      "                [2],\n",
      "                [3],\n",
      "                [4],\n",
      "                [5],\n",
      "                [6],\n",
      "                [7],\n",
      "                [8],\n",
      "                [9],\n",
      "                [10],\n",
      "                [11],\n",
      "                [12],\n",
      "                [13],\n",
      "                [14],\n",
      "                [15],\n",
      "                [16],\n",
      "                [17],\n",
      "                [18],\n",
      "                [19],\n",
      "                [20]],\n",
      " 'all_joints_names': ['Left_Front_Paw',\n",
      "                      'Left_Front_Wrist',\n",
      "                      'Left_Front_Elbow',\n",
      "                      'Left_Back_Paw',\n",
      "                      'Left_Back_Wrist',\n",
      "                      'Left_Back_Elbow',\n",
      "                      'Right_Front_Paw',\n",
      "                      'Right_Front_Wrist',\n",
      "                      'Right_Front_Elbow',\n",
      "                      'Right_Back_Paw',\n",
      "                      'Right_Back_Wrist',\n",
      "                      'Right_Back_Elbow',\n",
      "                      'Tail_Set',\n",
      "                      'Tail_Tip',\n",
      "                      'Left_Base_Ear',\n",
      "                      'Right_Base_Ear',\n",
      "                      'Nose',\n",
      "                      'Chin',\n",
      "                      'Left_Tip_Ear',\n",
      "                      'Right_Tip_Ear',\n",
      "                      'Withers'],\n",
      " 'batch_size': 1,\n",
      " 'crop_pad': 0,\n",
      " 'dataset': 'training-datasets/iteration-0/UnaugmentedDataSet_dog1Mar24/dog1_test95shuffle1.mat',\n",
      " 'dataset_type': 'imgaug',\n",
      " 'deterministic': False,\n",
      " 'fg_fraction': 0.25,\n",
      " 'global_scale': 0.8,\n",
      " 'init_weights': '/drive/samba/private_files/jupyter/DLC/dog1/dlc-models/iteration-0/dog1Mar24-trainset95shuffle1/train/snapshot-50000',\n",
      " 'intermediate_supervision': False,\n",
      " 'intermediate_supervision_layer': 12,\n",
      " 'location_refinement': True,\n",
      " 'locref_huber_loss': True,\n",
      " 'locref_loss_weight': 1.0,\n",
      " 'locref_stdev': 7.2801,\n",
      " 'log_dir': 'log',\n",
      " 'mean_pixel': [123.68, 116.779, 103.939],\n",
      " 'mirror': False,\n",
      " 'net_type': 'resnet_50',\n",
      " 'num_joints': 21,\n",
      " 'optimizer': 'sgd',\n",
      " 'pairwise_huber_loss': True,\n",
      " 'pairwise_predict': False,\n",
      " 'partaffinityfield_predict': False,\n",
      " 'regularize': False,\n",
      " 'scoremap_dir': 'test',\n",
      " 'shuffle': True,\n",
      " 'snapshot_prefix': '/drive/samba/private_files/jupyter/DLC/dog1/dlc-models/iteration-0/dog1Mar24-trainset95shuffle1/test/snapshot',\n",
      " 'stride': 8.0,\n",
      " 'weigh_negatives': False,\n",
      " 'weigh_only_present_joints': False,\n",
      " 'weigh_part_predictions': False,\n",
      " 'weight_decay': 0.0001}\n"
     ]
    },
    {
     "name": "stdout",
     "output_type": "stream",
     "text": [
      "Running  DLC_resnet50_dog1Mar24shuffle1_200000  with # of training iterations: 200000\n",
      "This net has already been evaluated!\n",
      "Plots already exist for this snapshot... Skipping to the next one.\n"
     ]
    }
   ],
   "source": [
    "deeplabcut.evaluate_network(config_path, Shuffles=[1], plotting=True)"
   ]
  },
  {
   "cell_type": "code",
   "execution_count": 5,
   "id": "62b5b8c9-8020-4e0b-968c-e429ab4ea052",
   "metadata": {
    "tags": []
   },
   "outputs": [],
   "source": [
    "import os\n",
    "\n",
    "videofile_path = os.path.join(os.getcwd(),'videos/coco_train02.mov')"
   ]
  },
  {
   "cell_type": "code",
   "execution_count": 6,
   "id": "ce4519e1-ceb8-4e36-a51e-37aaebea1ebb",
   "metadata": {
    "tags": []
   },
   "outputs": [
    {
     "name": "stderr",
     "output_type": "stream",
     "text": [
      "Config:\n",
      "{'all_joints': [[0],\n",
      "                [1],\n",
      "                [2],\n",
      "                [3],\n",
      "                [4],\n",
      "                [5],\n",
      "                [6],\n",
      "                [7],\n",
      "                [8],\n",
      "                [9],\n",
      "                [10],\n",
      "                [11],\n",
      "                [12],\n",
      "                [13],\n",
      "                [14],\n",
      "                [15],\n",
      "                [16],\n",
      "                [17],\n",
      "                [18],\n",
      "                [19],\n",
      "                [20]],\n",
      " 'all_joints_names': ['Left_Front_Paw',\n",
      "                      'Left_Front_Wrist',\n",
      "                      'Left_Front_Elbow',\n",
      "                      'Left_Back_Paw',\n",
      "                      'Left_Back_Wrist',\n",
      "                      'Left_Back_Elbow',\n",
      "                      'Right_Front_Paw',\n",
      "                      'Right_Front_Wrist',\n",
      "                      'Right_Front_Elbow',\n",
      "                      'Right_Back_Paw',\n",
      "                      'Right_Back_Wrist',\n",
      "                      'Right_Back_Elbow',\n",
      "                      'Tail_Set',\n",
      "                      'Tail_Tip',\n",
      "                      'Left_Base_Ear',\n",
      "                      'Right_Base_Ear',\n",
      "                      'Nose',\n",
      "                      'Chin',\n",
      "                      'Left_Tip_Ear',\n",
      "                      'Right_Tip_Ear',\n",
      "                      'Withers'],\n",
      " 'batch_size': 1,\n",
      " 'crop_pad': 0,\n",
      " 'dataset': 'training-datasets/iteration-0/UnaugmentedDataSet_dog1Mar24/dog1_test95shuffle1.mat',\n",
      " 'dataset_type': 'imgaug',\n",
      " 'deterministic': False,\n",
      " 'fg_fraction': 0.25,\n",
      " 'global_scale': 0.8,\n",
      " 'init_weights': '/drive/samba/private_files/jupyter/DLC/dog1/dlc-models/iteration-0/dog1Mar24-trainset95shuffle1/train/snapshot-50000',\n",
      " 'intermediate_supervision': False,\n",
      " 'intermediate_supervision_layer': 12,\n",
      " 'location_refinement': True,\n",
      " 'locref_huber_loss': True,\n",
      " 'locref_loss_weight': 1.0,\n",
      " 'locref_stdev': 7.2801,\n",
      " 'log_dir': 'log',\n",
      " 'mean_pixel': [123.68, 116.779, 103.939],\n",
      " 'mirror': False,\n",
      " 'net_type': 'resnet_50',\n",
      " 'num_joints': 21,\n",
      " 'optimizer': 'sgd',\n",
      " 'pairwise_huber_loss': True,\n",
      " 'pairwise_predict': False,\n",
      " 'partaffinityfield_predict': False,\n",
      " 'regularize': False,\n",
      " 'scoremap_dir': 'test',\n",
      " 'shuffle': True,\n",
      " 'snapshot_prefix': '/drive/samba/private_files/jupyter/DLC/dog1/dlc-models/iteration-0/dog1Mar24-trainset95shuffle1/test/snapshot',\n",
      " 'stride': 8.0,\n",
      " 'weigh_negatives': False,\n",
      " 'weigh_only_present_joints': False,\n",
      " 'weigh_part_predictions': False,\n",
      " 'weight_decay': 0.0001}\n",
      "/home/dlc/miniconda3/envs/deeplabcut/lib/python3.8/site-packages/tensorflow/python/keras/engine/base_layer_v1.py:1694: UserWarning: `layer.apply` is deprecated and will be removed in a future version. Please use `layer.__call__` method instead.\n",
      "  warnings.warn('`layer.apply` is deprecated and '\n"
     ]
    },
    {
     "name": "stdout",
     "output_type": "stream",
     "text": [
      "Using snapshot-200000 for model /drive/samba/private_files/jupyter/DLC/dog1/dlc-models/iteration-0/dog1Mar24-trainset95shuffle1\n"
     ]
    },
    {
     "name": "stderr",
     "output_type": "stream",
     "text": [
      "2023-04-17 16:04:10.563894: I tensorflow/stream_executor/cuda/cuda_gpu_executor.cc:975] successful NUMA node read from SysFS had negative value (-1), but there must be at least one NUMA node, so returning NUMA node zero\n",
      "2023-04-17 16:04:10.564125: I tensorflow/stream_executor/cuda/cuda_gpu_executor.cc:975] successful NUMA node read from SysFS had negative value (-1), but there must be at least one NUMA node, so returning NUMA node zero\n",
      "2023-04-17 16:04:10.564310: I tensorflow/stream_executor/cuda/cuda_gpu_executor.cc:975] successful NUMA node read from SysFS had negative value (-1), but there must be at least one NUMA node, so returning NUMA node zero\n",
      "2023-04-17 16:04:10.564529: I tensorflow/stream_executor/cuda/cuda_gpu_executor.cc:975] successful NUMA node read from SysFS had negative value (-1), but there must be at least one NUMA node, so returning NUMA node zero\n",
      "2023-04-17 16:04:10.564694: I tensorflow/stream_executor/cuda/cuda_gpu_executor.cc:975] successful NUMA node read from SysFS had negative value (-1), but there must be at least one NUMA node, so returning NUMA node zero\n",
      "2023-04-17 16:04:10.564794: I tensorflow/core/common_runtime/gpu/gpu_device.cc:1532] Created device /job:localhost/replica:0/task:0/device:GPU:0 with 10222 MB memory:  -> device: 0, name: NVIDIA GeForce RTX 3060, pci bus id: 0000:09:00.0, compute capability: 8.6\n"
     ]
    },
    {
     "name": "stdout",
     "output_type": "stream",
     "text": [
      "Starting to analyze %  /drive/samba/private_files/jupyter/DLC/videos/coco_train02.mov\n",
      "The videos are analyzed. Now your research can truly start! \n",
      " You can create labeled videos with 'create_labeled_video'\n",
      "If the tracking is not satisfactory for some videos, consider expanding the training set. You can use the function 'extract_outlier_frames' to extract a few representative outlier frames.\n"
     ]
    },
    {
     "data": {
      "text/plain": [
       "'DLC_resnet50_dog1Mar24shuffle1_200000'"
      ]
     },
     "execution_count": 6,
     "metadata": {},
     "output_type": "execute_result"
    }
   ],
   "source": [
    "deeplabcut.analyze_videos(config_path, videofile_path, shuffle=1, save_as_csv=True)"
   ]
  },
  {
   "cell_type": "code",
   "execution_count": 7,
   "id": "48978afc-a307-4187-938c-118b66b14537",
   "metadata": {
    "tags": []
   },
   "outputs": [
    {
     "name": "stdout",
     "output_type": "stream",
     "text": [
      "Starting to process video: /drive/samba/private_files/jupyter/DLC/videos/coco_train02.mov\n",
      "Labeled video coco_train02 already created.\n"
     ]
    },
    {
     "data": {
      "text/plain": [
       "[True]"
      ]
     },
     "execution_count": 7,
     "metadata": {},
     "output_type": "execute_result"
    }
   ],
   "source": [
    "deeplabcut.create_labeled_video(config_path, videofile_path, skeleton=True)"
   ]
  },
  {
   "cell_type": "code",
   "execution_count": null,
   "id": "3f051de0-28ed-45c5-bb39-8def66903849",
   "metadata": {},
   "outputs": [],
   "source": []
  }
 ],
 "metadata": {
  "kernelspec": {
   "display_name": "deeplabcut",
   "language": "python",
   "name": "deeplabcut"
  },
  "language_info": {
   "codemirror_mode": {
    "name": "ipython",
    "version": 3
   },
   "file_extension": ".py",
   "mimetype": "text/x-python",
   "name": "python",
   "nbconvert_exporter": "python",
   "pygments_lexer": "ipython3",
   "version": "3.8.16"
  }
 },
 "nbformat": 4,
 "nbformat_minor": 5
}
