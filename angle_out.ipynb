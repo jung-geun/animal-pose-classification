{
 "cells": [
  {
   "cell_type": "code",
   "execution_count": 2,
   "id": "16e153c2-c11c-46c4-a20a-2c8304f0d75a",
   "metadata": {
    "tags": []
   },
   "outputs": [
    {
     "name": "stdout",
     "output_type": "stream",
     "text": [
      "tf 2.9.0\n"
     ]
    }
   ],
   "source": [
    "# import deeplabcut\n",
    "import tensorflow as tf\n",
    "\n",
    "import numpy as np\n",
    "import pandas as pd\n",
    "\n",
    "import json\n",
    "\n",
    "from angle_out import out\n",
    "\n",
    "# print(\"dlc\",deeplabcut.__version__)\n",
    "print(\"tf\",tf.__version__)"
   ]
  },
  {
   "cell_type": "code",
   "execution_count": 10,
   "id": "ccb9abcf-6629-48a2-b572-ebc0f931f010",
   "metadata": {
    "tags": []
   },
   "outputs": [
    {
     "name": "stdout",
     "output_type": "stream",
     "text": [
      "<class 'numpy.ndarray'>\n"
     ]
    }
   ],
   "source": [
    "video_path = \"./videos/coco_train02.mov\"\n",
    "nparr = np.load(f\"{video_path}.npy\")\n",
    "\n",
    "print(type(nparr))\n",
    "\n",
    "# 전체 키포인트(관절좌표)\n",
    "keypoint = [\n",
    "    \"Left_Front_Paw\",\n",
    "    \"Left_Front_Wrist\",\n",
    "    \"Left_Front_Elbow\",\n",
    "    \n",
    "    \"Left_Back_Paw\",\n",
    "    \"Left_Back_Wrist\",\n",
    "    \"Left_Back_Elbow\",\n",
    "         \n",
    "    \"Right_Front_Paw\",\n",
    "    \"Right_Front_Wrist\",\n",
    "    \"Right_Front_Elbow\",\n",
    "    \n",
    "    \"Right_Back_Paw\",\n",
    "    \"Right_Back_Wrist\",\n",
    "    \"Right_Back_Elbow\",\n",
    "         \n",
    "    \"Tail_Set\",\n",
    "    \"Tail_Tip\",\n",
    "    \n",
    "    \"Left_Base_Ear\",\n",
    "    \"Right_Base_Ear\",\n",
    "    \n",
    "    \"Nose\",\n",
    "    \"Chin\",\n",
    "    \n",
    "    \"Left_Tip_Ear\",\n",
    "    \"Right_Tip_Ear\",\n",
    "    \n",
    "    \"Withers\"]\n",
    "\n",
    "# 각 연결된 키포인트에 대한 데이터\n",
    "link_parts = [\n",
    "    [\"Left_Front_Paw\",\"Left_Front_Wrist\"],\n",
    "    [\"Left_Front_Wrist\",\"Left_Front_Elbow\"],\n",
    "    \n",
    "    [\"Left_Back_Paw\",\"Left_Back_Wrist\"],\n",
    "    [\"Left_Back_Wrist\",\"Left_Back_Elbow\"],\n",
    "    \n",
    "    [\"Right_Front_Paw\",\"Right_Front_Wrist\"],\n",
    "    [\"Right_Front_Wrist\",\"Right_Front_Elbow\"],\n",
    "    \n",
    "    [\"Right_Back_Paw\",\"Right_Back_Wrist\"],\n",
    "    [\"Right_Back_Wrist\",\"Right_Back_Elbow\"],\n",
    "    \n",
    "    [\"Tail_Set\",\"Tail_Tip\"],\n",
    "    [\"Withers\",\"Tail_Set\"],\n",
    "    [\"Nose\",\"Withers\"],\n",
    "    [\"Chin\",\"Nose\"],\n",
    "    \n",
    "    [\"Nose\",\"Left_Base_Ear\"],\n",
    "    [\"Left_Base_Ear\",\"Left_Tip_Ear\"],\n",
    "    \n",
    "    [\"Nose\",\"Right_Base_Ear\"],\n",
    "    [\"Right_Base_Ear\",\"Right_Tip_Ear\"],\n",
    "    \n",
    "    [\"Withers\",\"Left_Front_Elbow\"],\n",
    "    [\"Withers\",\"Right_Front_Elbow\"],\n",
    "    \n",
    "    [\"Tail_Set\",\"Left_Back_Elbow\"],\n",
    "    [\"Tail_Set\",\"Right_Back_Elbow\"]]\n",
    "\n",
    "# 실제 학습할 때 사용할 관절좌표의 관계\n",
    "label_parts = [\n",
    "    [\"Nose\", \"Withers\", \"Tail_Set\", \"Tail_Tip\"],                              # 코 - 목 - 엉덩이 - 꼬리\n",
    "    [\"Withers\", \"Left_Front_Elbow\", \"Left_Front_Wrist\", \"Left_Front_Paw\"],    # 목 - 왼쪽 앞다리\n",
    "    [\"Withers\", \"Right_Front_Elbow\", \"Right_Front_Wrist\", \"Right_Front_Paw\"], # 목 - 오른쪽 앞다리\n",
    "    [\"Tail_Set\", \"Left_Back_Elbow\", \"Left_Back_Wrist\", \"Left_Back_Paw\"],      # 엉덩이 - 왼쪽 뒷다리\n",
    "    [\"Tail_Set\", \"Right_Back_Elbow\", \"Right_Back_Wrist\", \"Right_Back_Paw\"]    # 엉덩이 - 오른쪽 뒷다리\n",
    "]"
   ]
  },
  {
   "cell_type": "code",
   "execution_count": 11,
   "id": "097d648c-6bb2-4d16-8e29-3fd76d2d9a46",
   "metadata": {
    "tags": []
   },
   "outputs": [
    {
     "data": {
      "image/png": "[encoded data removed]",
      "text/plain": [
       "<Figure size 640x480 with 1 Axes>"
      ]
     },
     "metadata": {},
     "output_type": "display_data"
    }
   ],
   "source": [
    "import matplotlib.pyplot as plt \n",
    "\n",
    "def plot_line(a, b):\n",
    "    # print(a,b)\n",
    "    # 관절마다 선긋기\n",
    "    # if (a.any()> 0 and b.any()>0): \n",
    "    plt.plot([a[\"x\"], b[\"x\"]], [a[\"y\"], b[\"y\"]], 'k-')\n",
    "    \n",
    "def draw_skeleton(sample):\n",
    "    \n",
    "    skeleton = sample\n",
    "    \n",
    "    # 각 신체부위의 xy좌표 추출\n",
    "    Left_Front_Paw = skeleton[\"Left_Front_Paw\"]\n",
    "    Left_Front_Wrist = skeleton[\"Left_Front_Wrist\"]\n",
    "    Left_Front_Elbow = skeleton[\"Left_Front_Elbow\"]    \n",
    "    \n",
    "    Left_Back_Paw = skeleton[\"Left_Back_Paw\"]\n",
    "    Left_Back_Wrist = skeleton[\"Left_Back_Wrist\"]\n",
    "    Left_Back_Elbow = skeleton[\"Left_Back_Elbow\"]\n",
    "\n",
    "    Right_Front_Paw = skeleton[\"Right_Front_Paw\"]\n",
    "    Right_Front_Wrist = skeleton[\"Right_Front_Wrist\"]\n",
    "    Right_Front_Elbow = skeleton[\"Right_Front_Elbow\"]\n",
    "    \n",
    "    Right_Back_Paw = skeleton[\"Right_Back_Paw\"]\n",
    "    Right_Back_Wrist = skeleton[\"Right_Back_Wrist\"]\n",
    "    Right_Back_Elbow = skeleton[\"Right_Back_Elbow\"]\n",
    "    \n",
    "    Tail_Set = skeleton[\"Tail_Set\"]\n",
    "    Tail_Tip = skeleton[\"Tail_Tip\"]\n",
    "    \n",
    "    Left_Base_Ear = skeleton[\"Left_Base_Ear\"]\n",
    "    Right_Base_Ear = skeleton[\"Right_Base_Ear\"]\n",
    "    \n",
    "    Nose = skeleton[\"Nose\"]\n",
    "    Chin = skeleton[\"Chin\"]\n",
    "    \n",
    "    Left_Tip_Ear = skeleton[\"Left_Tip_Ear\"]\n",
    "    Right_Tip_Ear = skeleton[\"Right_Tip_Ear\"]\n",
    "    \n",
    "    Withers = skeleton[\"Withers\"]\n",
    "\n",
    "    \n",
    "    inbox={'facecolor':'w','edgecolor':'r','boxstyle':'round','alpha':0.5}\n",
    "    outbox={'facecolor':'w','edgecolor':'b','boxstyle':'round','alpha':0.5}\n",
    "    # 각 관절 점 및 텍스트 표시\n",
    "    for part in sample.values():\n",
    "        plt.plot(part[\"x\"], part[\"y\"])\n",
    "        # plt.text(part[\"x\"], part[\"y\"], '.', verticalalignment='bottom' , horizontalalignment='center' )\n",
    "    \n",
    "    # 신체에 맞게 각 관절 선으로 연결\n",
    "    for part in link_parts:\n",
    "        plot_line(sample[part[0]], sample[part[1]])\n",
    "    \n",
    "def skeleton_plot(sample):\n",
    "    # 그래프 padding 값\n",
    "    pad_ori = 40\n",
    "    plt.subplot(122)\n",
    "    plt.title('skeleton')\n",
    "    X_ori = sample\n",
    "    # print(X_ori)\n",
    "    \n",
    "    # 관절의 최대 최소값을 구해 그래프 영역 설정\n",
    "    # print(X_ori)\n",
    "    x = []\n",
    "    y = []\n",
    "    for v in X_ori.values():\n",
    "        # print(v[\"x\"])\n",
    "        x.append(v[\"x\"])\n",
    "        y.append(v[\"y\"])\n",
    "    \n",
    "    x_max = max(x) + pad_ori\n",
    "    x_min = min(x) - pad_ori\n",
    "    y_max = max(y) + pad_ori\n",
    "    y_min = min(y) - pad_ori\n",
    "\n",
    "    plt.xlim(x_max, x_min)\n",
    "    plt.ylim(y_max, y_min)\n",
    "    draw_skeleton(X_ori)\n",
    "    \n",
    "pose_list = json.load(open(f\"{video_path}.json\",\"r\"))\n",
    "# print(pose_list)\n",
    "for img, pose in pose_list.items():\n",
    "    if img == f\"{1}_img\":\n",
    "        # print(pose)\n",
    "        skeleton_plot(pose)"
   ]
  },
  {
   "cell_type": "code",
   "execution_count": 6,
   "id": "cbc5dabf-58f0-42c1-bd46-5dfdbcf82d71",
   "metadata": {
    "tags": []
   },
   "outputs": [
    {
     "data": {
      "text/html": [
       "<style>#sk-container-id-1 {color: black;background-color: white;}#sk-container-id-1 pre{padding: 0;}#sk-container-id-1 div.sk-toggleable {background-color: white;}#sk-container-id-1 label.sk-toggleable__label {cursor: pointer;display: block;width: 100%;margin-bottom: 0;padding: 0.3em;box-sizing: border-box;text-align: center;}#sk-container-id-1 label.sk-toggleable__label-arrow:before {content: \"▸\";float: left;margin-right: 0.25em;color: #696969;}#sk-container-id-1 label.sk-toggleable__label-arrow:hover:before {color: black;}#sk-container-id-1 div.sk-estimator:hover label.sk-toggleable__label-arrow:before {color: black;}#sk-container-id-1 div.sk-toggleable__content {max-height: 0;max-width: 0;overflow: hidden;text-align: left;background-color: #f0f8ff;}#sk-container-id-1 div.sk-toggleable__content pre {margin: 0.2em;color: black;border-radius: 0.25em;background-color: #f0f8ff;}#sk-container-id-1 input.sk-toggleable__control:checked~div.sk-toggleable__content {max-height: 200px;max-width: 100%;overflow: auto;}#sk-container-id-1 input.sk-toggleable__control:checked~label.sk-toggleable__label-arrow:before {content: \"▾\";}#sk-container-id-1 div.sk-estimator input.sk-toggleable__control:checked~label.sk-toggleable__label {background-color: #d4ebff;}#sk-container-id-1 div.sk-label input.sk-toggleable__control:checked~label.sk-toggleable__label {background-color: #d4ebff;}#sk-container-id-1 input.sk-hidden--visually {border: 0;clip: rect(1px 1px 1px 1px);clip: rect(1px, 1px, 1px, 1px);height: 1px;margin: -1px;overflow: hidden;padding: 0;position: absolute;width: 1px;}#sk-container-id-1 div.sk-estimator {font-family: monospace;background-color: #f0f8ff;border: 1px dotted black;border-radius: 0.25em;box-sizing: border-box;margin-bottom: 0.5em;}#sk-container-id-1 div.sk-estimator:hover {background-color: #d4ebff;}#sk-container-id-1 div.sk-parallel-item::after {content: \"\";width: 100%;border-bottom: 1px solid gray;flex-grow: 1;}#sk-container-id-1 div.sk-label:hover label.sk-toggleable__label {background-color: #d4ebff;}#sk-container-id-1 div.sk-serial::before {content: \"\";position: absolute;border-left: 1px solid gray;box-sizing: border-box;top: 0;bottom: 0;left: 50%;z-index: 0;}#sk-container-id-1 div.sk-serial {display: flex;flex-direction: column;align-items: center;background-color: white;padding-right: 0.2em;padding-left: 0.2em;position: relative;}#sk-container-id-1 div.sk-item {position: relative;z-index: 1;}#sk-container-id-1 div.sk-parallel {display: flex;align-items: stretch;justify-content: center;background-color: white;position: relative;}#sk-container-id-1 div.sk-item::before, #sk-container-id-1 div.sk-parallel-item::before {content: \"\";position: absolute;border-left: 1px solid gray;box-sizing: border-box;top: 0;bottom: 0;left: 50%;z-index: -1;}#sk-container-id-1 div.sk-parallel-item {display: flex;flex-direction: column;z-index: 1;position: relative;background-color: white;}#sk-container-id-1 div.sk-parallel-item:first-child::after {align-self: flex-end;width: 50%;}#sk-container-id-1 div.sk-parallel-item:last-child::after {align-self: flex-start;width: 50%;}#sk-container-id-1 div.sk-parallel-item:only-child::after {width: 0;}#sk-container-id-1 div.sk-dashed-wrapped {border: 1px dashed gray;margin: 0 0.4em 0.5em 0.4em;box-sizing: border-box;padding-bottom: 0.4em;background-color: white;}#sk-container-id-1 div.sk-label label {font-family: monospace;font-weight: bold;display: inline-block;line-height: 1.2em;}#sk-container-id-1 div.sk-label-container {text-align: center;}#sk-container-id-1 div.sk-container {/* jupyter's `normalize.less` sets `[hidden] { display: none; }` but bootstrap.min.css set `[hidden] { display: none !important; }` so we also need the `!important` here to be able to override the default hidden behavior on the sphinx rendered scikit-learn.org. See: https://github.com/scikit-learn/scikit-learn/issues/21755 */display: inline-block !important;position: relative;}#sk-container-id-1 div.sk-text-repr-fallback {display: none;}</style><div id=\"sk-container-id-1\" class=\"sk-top-container\"><div class=\"sk-text-repr-fallback\"><pre>RandomForestClassifier()</pre><b>In a Jupyter environment, please rerun this cell to show the HTML representation or trust the notebook. <br />On GitHub, the HTML representation is unable to render, please try loading this page with nbviewer.org.</b></div><div class=\"sk-container\" hidden><div class=\"sk-item\"><div class=\"sk-estimator sk-toggleable\"><input class=\"sk-toggleable__control sk-hidden--visually\" id=\"sk-estimator-id-1\" type=\"checkbox\" checked><label for=\"sk-estimator-id-1\" class=\"sk-toggleable__label sk-toggleable__label-arrow\">RandomForestClassifier</label><div class=\"sk-toggleable__content\"><pre>RandomForestClassifier()</pre></div></div></div></div></div>"
      ],
      "text/plain": [
       "RandomForestClassifier()"
      ]
     },
     "execution_count": 6,
     "metadata": {},
     "output_type": "execute_result"
    }
   ],
   "source": [
    "from sklearn.metrics import accuracy_score\n",
    "from sklearn.model_selection import cross_validate, cross_val_score, cross_val_predict\n",
    "from sklearn import model_selection\n",
    "\n",
    "from sklearn.linear_model import SGDClassifier, LogisticRegression\n",
    "from sklearn.ensemble import RandomForestClassifier\n",
    "from sklearn import svm, tree\n",
    "\n",
    "def make_model(mod = \"forest\"):\n",
    "\n",
    "    if mod == \"svc\":\n",
    "        model = svm.SVC()\n",
    "    elif mod == \"tree\":\n",
    "        model = tree.DecisionTreeClassifier()\n",
    "    elif mod == \"forest\":\n",
    "        model = RandomForestClassifier()\n",
    "    elif mod == \"sgd\":\n",
    "        model = SGDClassifier()\n",
    "    elif mod == \"logistic\":\n",
    "        model = LogisticRegression()\n",
    "\n",
    "    # print(model)\n",
    "\n",
    "    return model\n",
    "\n",
    "make_model()"
   ]
  },
  {
   "cell_type": "code",
   "execution_count": 7,
   "id": "e0909a7e-9338-4c34-8414-d8dbddd492a8",
   "metadata": {
    "scrolled": true,
    "tags": []
   },
   "outputs": [
    {
     "name": "stdout",
     "output_type": "stream",
     "text": [
      "RandomForestClassifier()\n",
      "(31, 5, 2) (8, 5, 2)\n"
     ]
    }
   ],
   "source": [
    "import json\n",
    "\n",
    "def do_train():\n",
    "    # data = get_data()\n",
    "    data = np.load(\"angle.npy\")\n",
    "    \n",
    "    x_train, x_test = model_selection.train_test_split(data, test_size=0.2)\n",
    "    \n",
    "    model = make_model()\n",
    "    print(model)\n",
    "    \n",
    "    \n",
    "    print(x_train.shape, x_test.shape)\n",
    "    \n",
    "do_train()"
   ]
  },
  {
   "cell_type": "code",
   "execution_count": null,
   "id": "8b82720d-af57-40e4-bc4d-6076a8220758",
   "metadata": {},
   "outputs": [],
   "source": []
  }
 ],
 "metadata": {
  "kernelspec": {
   "display_name": "deeplabcut",
   "language": "python",
   "name": "deeplabcut"
  },
  "language_info": {
   "codemirror_mode": {
    "name": "ipython",
    "version": 3
   },
   "file_extension": ".py",
   "mimetype": "text/x-python",
   "name": "python",
   "nbconvert_exporter": "python",
   "pygments_lexer": "ipython3",
   "version": "3.8.16"
  }
 },
 "nbformat": 4,
 "nbformat_minor": 5
}
