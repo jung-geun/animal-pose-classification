{
 "cells": [
  {
   "cell_type": "code",
   "execution_count": 9,
   "id": "0e9740a0-b5c1-46a8-a9b3-c5b833a23fac",
   "metadata": {
    "tags": []
   },
   "outputs": [
    {
     "data": {
      "text/plain": [
       "' edit. 폴더명 파라미터로 받아서 실행하기\\n'"
      ]
     },
     "execution_count": 9,
     "metadata": {},
     "output_type": "execute_result"
    }
   ],
   "source": [
    "# 동영상을 입력으로하며, 학습된 모델을 이용하여 프레임 단위로 분석하고 예측한 관절 좌표를 생성 및 저장한다.\n",
    "import os\n",
    "\n",
    "import tensorflow as tf\n",
    "gpus = tf.config.experimental.list_physical_devices(\"GPU\")\n",
    "if gpus:\n",
    "    try:\n",
    "        # tf.config.experimental.set_visible_devices(gpus[0], \"GPU\")\n",
    "        tf.config.experimental.set_memory_growth(gpus[0], True)\n",
    "    except RuntimeError as e:\n",
    "        print(e)\n",
    "\n",
    "import deeplabcut\n",
    "import cv2 \n",
    "import yaml\n",
    "import numpy as np\n",
    "import tqdm.notebook as tqdm\n",
    "from skimage.util import img_as_ubyte\n",
    "import time\n",
    "import json\n",
    "import shutil\n",
    "\n",
    "from data_sensor import ini_DLC, get_img_coord, analyze_frames\n",
    "\n",
    "import angle_out as angle\n",
    "\n",
    "os.environ['TF_CPP_MIN_LOG_LEVEL'] = '3'\n",
    "\n",
    "\"\"\"\n",
    "----- param -----\n",
    "src_file_path : 분석할 동영상 파일 \n",
    "config_path : 학습된 모델의 yaml 파일 = dlc_cfg\n",
    "cfg_path : DLC 프로젝트의 yaml 파일 = cfg\n",
    "----- pose_cfg.yaml에 추가 -----\n",
    "\n",
    "init_weights: \"/drive/samba/private_files/jupyter/DLC/dog1/dlc-models/iteration-0/dog1Mar24-trainset95shuffle1/train/snapshot-30000\"\n",
    "mean_pixel: [123.68, 116.779, 103.939]\n",
    "weight_decay: 0.0001\n",
    "pairwise_predict: False\n",
    "partaffinityfield_predict: False\n",
    "stride: 8.0\n",
    "intermediate_supervision: False\n",
    "dataset_type: imgaug\n",
    "\"\"\"\n",
    "\n",
    "\n",
    "\"\"\" edit. 폴더명 파라미터로 받아서 실행하기\n",
    "\"\"\""
   ]
  },
  {
   "cell_type": "code",
   "execution_count": 12,
   "id": "945238d7-ea0a-4478-83c0-f1f592609655",
   "metadata": {
    "tags": []
   },
   "outputs": [],
   "source": [
    "def analyze_video(src=None, out=None):\n",
    "    des_out=\"\"\n",
    "    if isinstance(src, list):        \n",
    "        for src_file_path in src:\n",
    "            src_arr = src_file_path.split('/')\n",
    "            des_out=f\"{out}/\"\n",
    "            print(src_arr)\n",
    "            label = f\"{src_arr[-2]}\"\n",
    "\n",
    "            for i in src_arr[2:-1]:\n",
    "                print(f\"소스 경로 출력 > {i}\")\n",
    "                des_out+=f\"{i}/\"\n",
    "                if not os.path.isdir(des_out):\n",
    "                    os.mkdir(des_out)\n",
    "\n",
    "            print(des_out)\n",
    "\n",
    "            vedio_name, video_ext = os.path.splitext(os.path.basename(src_file_path))\n",
    "            print(src_file_path)\n",
    "            out_path = des_out\n",
    "            label = des_out+label\n",
    "    \n",
    "    data = analyze_frames(src, des_out)\n",
    "    print(f\"file path > {label}\")\n",
    "    print(f\"des_out > {des_out}\")\n",
    "    #print(\"LB : \",type(data),data.shape) # <class 'numpy.ndarray'> (271, 21, 3)\n",
    "    np.save(label, data)\n",
    "    \n",
    "# analyze_video(src=(\n",
    "#     './data/BODYLOWER/101_bodylower/BODYLOWER_BODYLOWER_frame_102_timestamp_3400.jpg',\n",
    "#     './data/BODYLOWER/101_bodylower/BODYLOWER_BODYLOWER_frame_108_timestamp_3600.jpg',\n",
    "#     './data/BODYLOWER/101_bodylower/BODYLOWER_BODYLOWER_frame_114_timestamp_3800.jpg'\n",
    "# ),\n",
    "#     out='./label')\n",
    "\n",
    "#def load_npy_data():\n",
    "#    np_path='./coco_train02.mov.npy'\n",
    "#    data = np.load(np_path)\n",
    "#    print(data)\n",
    "#    pass\n",
    "\n",
    "#load_npy_data()\n"
   ]
  },
  {
   "cell_type": "code",
   "execution_count": 13,
   "id": "b150a090-1ee2-4c1b-88d6-30c29e88473e",
   "metadata": {
    "tags": []
   },
   "outputs": [
    {
     "name": "stdout",
     "output_type": "stream",
     "text": [
      "./data/BODYLOWER/183_bodylower/BODYLOWER_BODYLOWER_frame_0_timestamp_0.jpg\n",
      "전체 길이 : 1.0\n",
      "초당 프레임 : 25\n",
      "flag : 12\n",
      "추가 한 후 0\n",
      "조건 식 후 : 1\n",
      "한번 실행하는데 걸리는 시간 : 5.75506 sec\n",
      "이미지 호출하는데 걸리는 시간 : 0.00476 sec\n",
      "프리딕션에 걸리는 시간 : 5.75012 sec\n"
     ]
    },
    {
     "ename": "UnboundLocalError",
     "evalue": "local variable 'label' referenced before assignment",
     "output_type": "error",
     "traceback": [
      "\u001b[0;31m---------------------------------------------------------------------------\u001b[0m",
      "\u001b[0;31mUnboundLocalError\u001b[0m                         Traceback (most recent call last)",
      "Cell \u001b[0;32mIn[13], line 26\u001b[0m\n\u001b[1;32m     24\u001b[0m \u001b[38;5;28;01mfor\u001b[39;00m x \u001b[38;5;129;01min\u001b[39;00m os\u001b[38;5;241m.\u001b[39mlistdir(\u001b[38;5;124mf\u001b[39m\u001b[38;5;124m'\u001b[39m\u001b[38;5;124m./data/\u001b[39m\u001b[38;5;132;01m{\u001b[39;00mi\u001b[38;5;132;01m}\u001b[39;00m\u001b[38;5;124m/\u001b[39m\u001b[38;5;132;01m{\u001b[39;00mj\u001b[38;5;132;01m}\u001b[39;00m\u001b[38;5;124m'\u001b[39m):\n\u001b[1;32m     25\u001b[0m     \u001b[38;5;28mprint\u001b[39m(\u001b[38;5;124mf\u001b[39m\u001b[38;5;124m\"\u001b[39m\u001b[38;5;124m./data/\u001b[39m\u001b[38;5;132;01m{\u001b[39;00mi\u001b[38;5;132;01m}\u001b[39;00m\u001b[38;5;124m/\u001b[39m\u001b[38;5;132;01m{\u001b[39;00mj\u001b[38;5;132;01m}\u001b[39;00m\u001b[38;5;124m/\u001b[39m\u001b[38;5;132;01m{\u001b[39;00mx\u001b[38;5;132;01m}\u001b[39;00m\u001b[38;5;124m\"\u001b[39m)\n\u001b[0;32m---> 26\u001b[0m     \u001b[43manalyze_video\u001b[49m\u001b[43m(\u001b[49m\u001b[43msrc\u001b[49m\u001b[38;5;241;43m=\u001b[39;49m\u001b[38;5;124;43mf\u001b[39;49m\u001b[38;5;124;43m\"\u001b[39;49m\u001b[38;5;124;43m./data/\u001b[39;49m\u001b[38;5;132;43;01m{\u001b[39;49;00m\u001b[43mi\u001b[49m\u001b[38;5;132;43;01m}\u001b[39;49;00m\u001b[38;5;124;43m/\u001b[39;49m\u001b[38;5;132;43;01m{\u001b[39;49;00m\u001b[43mj\u001b[49m\u001b[38;5;132;43;01m}\u001b[39;49;00m\u001b[38;5;124;43m/\u001b[39;49m\u001b[38;5;132;43;01m{\u001b[39;49;00m\u001b[43mx\u001b[49m\u001b[38;5;132;43;01m}\u001b[39;49;00m\u001b[38;5;124;43m\"\u001b[39;49m\u001b[43m,\u001b[49m\u001b[43m \u001b[49m\u001b[43mout\u001b[49m\u001b[38;5;241;43m=\u001b[39;49m\u001b[38;5;124;43m'\u001b[39;49m\u001b[38;5;124;43m/label\u001b[39;49m\u001b[38;5;124;43m'\u001b[39;49m\u001b[43m)\u001b[49m\n\u001b[1;32m     27\u001b[0m f\u001b[38;5;241m.\u001b[39mclose()   \n",
      "Cell \u001b[0;32mIn[12], line 24\u001b[0m, in \u001b[0;36manalyze_video\u001b[0;34m(src, out)\u001b[0m\n\u001b[1;32m     21\u001b[0m         label \u001b[38;5;241m=\u001b[39m des_out\u001b[38;5;241m+\u001b[39mlabel\n\u001b[1;32m     23\u001b[0m data \u001b[38;5;241m=\u001b[39m analyze_frames(src)\n\u001b[0;32m---> 24\u001b[0m \u001b[38;5;28mprint\u001b[39m(\u001b[38;5;124mf\u001b[39m\u001b[38;5;124m\"\u001b[39m\u001b[38;5;124mfile path > \u001b[39m\u001b[38;5;132;01m{\u001b[39;00mlabel\u001b[38;5;132;01m}\u001b[39;00m\u001b[38;5;124m\"\u001b[39m)\n\u001b[1;32m     25\u001b[0m \u001b[38;5;28mprint\u001b[39m(\u001b[38;5;124mf\u001b[39m\u001b[38;5;124m\"\u001b[39m\u001b[38;5;124mdes_out > \u001b[39m\u001b[38;5;132;01m{\u001b[39;00mdes_out\u001b[38;5;132;01m}\u001b[39;00m\u001b[38;5;124m\"\u001b[39m)\n\u001b[1;32m     26\u001b[0m \u001b[38;5;66;03m#print(\"LB : \",type(data),data.shape) # <class 'numpy.ndarray'> (271, 21, 3)\u001b[39;00m\n",
      "\u001b[0;31mUnboundLocalError\u001b[0m: local variable 'label' referenced before assignment"
     ]
    }
   ],
   "source": [
    "# analyze_video(src ='./data/' + i + j1 , out='./label/' + i+'/' + j1)\n",
    "\n",
    "for i in os.listdir('./data'):\n",
    "    if i=='.ipynb_checkpoints':\n",
    "        continue\n",
    "        \n",
    "    if not os.path.exists('./label/' + i):\n",
    "            os.makedirs('./label/' + i) # label 폴더에 행동 폴더 만들기\n",
    "            \n",
    "    for j in os.listdir('./data/'+i):\n",
    "        # print(f\"./label/{i}/{j}\")\n",
    "        f\"./data/{i}/{j}\"\n",
    "        # print(j)\n",
    "        if not os.path.exists('./label/' + i + '/' + j):\n",
    "            os.makedirs('./label/' + i + '/' + j) # label 폴더안에 행동 폴더 안에 데이터랑 이름이 같은 폴더 만들기\n",
    "        \n",
    "        f = open('./label/' + i+'/' + j + '/' + j + '.json', 'w')\n",
    "        data = []\n",
    "        data.append({\n",
    "            \"frame\" : 1,\n",
    "            \"pose\": f\"{i}\"\n",
    "        })\n",
    "        json.dump(data, f, indent=4)\n",
    "        for x in os.listdir(f'./data/{i}/{j}'):\n",
    "            print(f\"./data/{i}/{j}/{x}\")\n",
    "            analyze_video(src=f\"./data/{i}/{j}/{x}\", out='/label')\n",
    "        f.close()   \n",
    "        \n",
    "\n",
    "\n"
   ]
  },
  {
   "cell_type": "code",
   "execution_count": null,
   "id": "8193cbdb-29cc-41fa-83dc-f247fe7b8d13",
   "metadata": {
    "tags": []
   },
   "outputs": [],
   "source": [
    "i = 'TEST'\n",
    "j1 = '1_test'\n",
    "        \n",
    "analyze_video(src ='./data/' + i + '/' + j1 , out='./label/' + i+'/' + j1)\n",
    "        \n",
    "\n"
   ]
  },
  {
   "cell_type": "code",
   "execution_count": null,
   "id": "5d519ca5-57ea-4529-9c5a-874e39699e1c",
   "metadata": {},
   "outputs": [],
   "source": [
    "# shutil.rmtree('./label', ignore_errors=True)\n",
    "# 라벨 전체 삭제됨 주의"
   ]
  },
  {
   "cell_type": "code",
   "execution_count": null,
   "id": "065456db-6bec-4daf-a3a2-93c588ed0ee9",
   "metadata": {},
   "outputs": [],
   "source": [
    "# def analyze_video(src=None, out=None):\n",
    "#     des_out=\"\"\n",
    "#     if isinstance(src, list):        \n",
    "#         for src_file_path in src:\n",
    "#             src_arr = src_file_path.split('/')\n",
    "#             des_out=f\"{out}/\"\n",
    "#             print(src_arr)\n",
    "#             label = f\"{src_arr[-2]}\"\n",
    "\n",
    "#             for i in src_arr[2:-1]:\n",
    "#                 print(f\"소스 경로 출력 > {i}\")\n",
    "#                 des_out+=f\"{i}/\"\n",
    "#                 if not os.path.isdir(des_out):\n",
    "#                     os.mkdir(des_out)\n",
    "\n",
    "#             print(des_out)\n",
    "\n",
    "#             vedio_name, video_ext = os.path.splitext(os.path.basename(src_file_path))\n",
    "#             print(src_file_path)\n",
    "#             out_path = des_out\n",
    "#             label = des_out+label\n",
    "    \n",
    "#     data = analyze_frames(src, des_out)\n",
    "#     print(f\"file path > {label}\")\n",
    "#     print(f\"des_out > {des_out}\")\n",
    "#     #print(\"LB : \",type(data),data.shape) # <class 'numpy.ndarray'> (271, 21, 3)\n",
    "#     np.save(label, data)"
   ]
  }
 ],
 "metadata": {
  "kernelspec": {
   "display_name": "DLC",
   "language": "python",
   "name": "python3"
  },
  "language_info": {
   "codemirror_mode": {
    "name": "ipython",
    "version": 3
   },
   "file_extension": ".py",
   "mimetype": "text/x-python",
   "name": "python",
   "nbconvert_exporter": "python",
   "pygments_lexer": "ipython3",
   "version": "3.8.16"
  },
  "widgets": {
   "application/vnd.jupyter.widget-state+json": {
    "state": {},
    "version_major": 2,
    "version_minor": 0
   }
  }
 },
 "nbformat": 4,
 "nbformat_minor": 5
}
